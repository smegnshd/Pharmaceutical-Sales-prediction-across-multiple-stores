{
 "cells": [
  {
   "cell_type": "code",
   "execution_count": null,
   "id": "62db9d71",
   "metadata": {},
   "outputs": [
    {
     "name": "stdout",
     "output_type": "stream",
     "text": [
      "train set shape: (1017209, 9)\n",
      "test set shape: (41088, 8)\n",
      "store set shape: (1115, 10)\n",
      "Your selected dataframe has 10 columns.\n",
      "There are 6 columns that have missing values.\n",
      "Your selected dataframe has 9 columns.\n",
      "There are 0 columns that have missing values.\n",
      "Your selected dataframe has 8 columns.\n",
      "There are 1 columns that have missing values.\n",
      "(1017209, 18)\n",
      "(41088, 17)\n",
      "Your selected dataframe has 18 columns.\n",
      "There are 6 columns that have missing values.\n",
      "Your selected dataframe has 17 columns.\n",
      "There are 7 columns that have missing values.\n",
      "Your selected dataframe has 18 columns.\n",
      "There are 0 columns that have missing values.\n",
      "Your selected dataframe has 17 columns.\n",
      "There are 0 columns that have missing values.\n"
     ]
    },
    {
     "data": {
      "image/png": "[encoded data removed]",
      "text/plain": [
       "<Figure size 432x288 with 1 Axes>"
      ]
     },
     "metadata": {
      "needs_background": "light"
     },
     "output_type": "display_data"
    },
    {
     "data": {
      "image/png": "[encoded data removed]",
      "text/plain": [
       "<Figure size 432x288 with 1 Axes>"
      ]
     },
     "metadata": {
      "needs_background": "light"
     },
     "output_type": "display_data"
    },
    {
     "data": {
      "image/png": "[encoded data removed]",
      "text/plain": [
       "<Figure size 432x288 with 1 Axes>"
      ]
     },
     "metadata": {
      "needs_background": "light"
     },
     "output_type": "display_data"
    },
    {
     "data": {
      "image/png": "[encoded data removed]",
      "text/plain": [
       "<Figure size 432x288 with 1 Axes>"
      ]
     },
     "metadata": {
      "needs_background": "light"
     },
     "output_type": "display_data"
    },
    {
     "data": {
      "image/png": "[encoded data removed]",
      "text/plain": [
       "<Figure size 432x288 with 1 Axes>"
      ]
     },
     "metadata": {
      "needs_background": "light"
     },
     "output_type": "display_data"
    },
    {
     "data": {
      "image/png": "[encoded data removed]",
      "text/plain": [
       "<Figure size 432x288 with 1 Axes>"
      ]
     },
     "metadata": {
      "needs_background": "light"
     },
     "output_type": "display_data"
    },
    {
     "data": {
      "image/png": "[encoded data removed]",
      "text/plain": [
       "<Figure size 432x288 with 1 Axes>"
      ]
     },
     "metadata": {
      "needs_background": "light"
     },
     "output_type": "display_data"
    },
    {
     "name": "stdout",
     "output_type": "stream",
     "text": [
      "   sales prediction\n",
      "0            7143.6\n",
      "1            5196.4\n",
      "2            4898.4\n",
      "3            5257.2\n",
      "4            6263.9\n"
     ]
    }
   ],
   "source": [
    "# -*- coding: utf-8 -*-\n",
    "\"\"\"\n",
    "Created on Sat Jul 31 14:19:10 2021\n",
    "\n",
    "@author: Smegn\n",
    "\"\"\"\n",
    "\n",
    " #linear algebra and data processing\n",
    "import numpy as np\n",
    "import pandas as pd\n",
    "import datetime\n",
    "\n",
    "#visualisations\n",
    "import seaborn as sb\n",
    "import matplotlib.pyplot as plt\n",
    "##\n",
    "import mlflow\n",
    "import mlflow.sklearn\n",
    "\n",
    "# data preprocessing\n",
    "from sklearn.impute import SimpleImputer\n",
    "from sklearn.preprocessing import LabelEncoder, OneHotEncoder, StandardScaler\n",
    "from sklearn.compose import ColumnTransformer\n",
    "from sklearn.pipeline import Pipeline\n",
    "from sklearn.ensemble import RandomForestRegressor\n",
    "from sklearn import model_selection\n",
    "\n",
    "#ml\n",
    "from sklearn.metrics import mean_squared_error\n",
    "from sklearn.model_selection import train_test_split\n",
    "\n",
    "# math and statistics\n",
    "from scipy import stats\n",
    "from scipy.stats import skew, norm\n",
    "from scipy.special import boxcox1p\n",
    "from scipy.stats import boxcox_normmax\n",
    "\n",
    "# ignnore warnings\n",
    "import warnings\n",
    "warnings.filterwarnings(action=\"ignore\")\n",
    "#############Load Data################\n",
    "train_data=pd.read_csv(r'C:\\Users\\Smegn\\Documents\\GitHub\\Pharmaceutical-Sales-prediction-across-multiple-stores\\data\\train.csv')\n",
    "\n",
    "\n",
    "test_data=pd.read_csv(r'C:\\Users\\Smegn\\Documents\\GitHub\\Pharmaceutical-Sales-prediction-across-multiple-stores\\data\\test.csv')\n",
    "\n",
    "store_data=pd.read_csv(r'C:\\Users\\Smegn\\Documents\\GitHub\\Pharmaceutical-Sales-prediction-across-multiple-stores\\data\\store.csv')\n",
    "\n",
    "sample_data=pd.read_csv(r'C:\\Users\\Smegn\\Documents\\GitHub\\Pharmaceutical-Sales-prediction-across-multiple-stores\\data\\sample_submission.csv')\n",
    "\n",
    "print('train set shape:', train_data.shape)\n",
    "print('test set shape:', test_data.shape)\n",
    "print('store set shape:', store_data.shape)\n",
    "\n",
    "###Mising value##\n",
    "\n",
    "'''6 of the store data columns contain missing values and one column of test data contain missing value.'''\n",
    "\n",
    "#Function to calculate missing values by column\n",
    "def missing_values_table(df):\n",
    "    # Total missing values\n",
    "    mis_val = df.isnull().sum()\n",
    "\n",
    "    # Percentage of missing values\n",
    "    mis_val_percent = 100 * df.isnull().sum() / len(df)\n",
    "\n",
    "    # dtype of missing values\n",
    "    mis_val_dtype = df.dtypes\n",
    "\n",
    "    # Make a table with the results\n",
    "    mis_val_table = pd.concat([mis_val, mis_val_percent, mis_val_dtype], axis=1)\n",
    "\n",
    "    # Rename the columns\n",
    "    mis_val_table_ren_columns = mis_val_table.rename(\n",
    "    columns = {0 : 'Missing Values', 1 : '% of Total Values', 2: 'Dtype'})\n",
    "\n",
    "    # Sort the table by percentage of missing descending\n",
    "    mis_val_table_ren_columns = mis_val_table_ren_columns[\n",
    "        mis_val_table_ren_columns.iloc[:,1] != 0].sort_values(\n",
    "    '% of Total Values', ascending=False).round(1)\n",
    "\n",
    "    # Print some summary information\n",
    "    print (\"Your selected dataframe has \" + str(df.shape[1]) + \" columns.\\n\"      \n",
    "        \"There are \" + str(mis_val_table_ren_columns.shape[0]) +\n",
    "          \" columns that have missing values.\")\n",
    "\n",
    "    # Return the dataframe with missing information\n",
    "    return mis_val_table_ren_columns\n",
    "missing_values_table(store_data)\n",
    "missing_values_table(train_data)\n",
    "missing_values_table(test_data)\n",
    "###\n",
    "'''\n",
    "Before we deside to fill missing value we need to first merge both data sets with the store data\n",
    "'''\n",
    "# merge the train/test sets with the stores set\n",
    "store_train = pd.merge(left = train_data, right = store_data, how = 'inner', left_on = 'Store', right_on = 'Store')\n",
    "store_test = pd.merge(left = test_data, right = store_data, how = 'inner', left_on = 'Store', right_on = 'Store')\n",
    "print(store_train.shape)\n",
    "print(store_test.shape)\n",
    "######Data Preprocessing###\n",
    "#null values\n",
    "store_train.isna().any()\n",
    "store_test.isna().any()\n",
    "###missing\n",
    "missing_values_table(store_train)\n",
    "missing_values_table(store_test)\n",
    "####fill mising value\n",
    "store_test['CompetitionDistance'].fillna(store_test['CompetitionDistance'].median(), inplace =True)\n",
    "store_test.CompetitionOpenSinceMonth.fillna(0, inplace = True)\n",
    "store_test.CompetitionOpenSinceYear.fillna(0,inplace=True)\n",
    "store_test.Promo2SinceWeek.fillna(0, inplace = True)\n",
    "store_test.Promo2SinceYear.fillna(0,inplace=True)\n",
    "store_test.PromoInterval.fillna(0,inplace=True)\n",
    "store_test.Open.fillna(0,inplace=True)\n",
    "#fill mising value for store_train dataset\n",
    "store_train['CompetitionDistance'].fillna(store_train['CompetitionDistance'].median(), inplace =True)\n",
    "store_train.CompetitionOpenSinceMonth.fillna(0, inplace = True)\n",
    "store_train.CompetitionOpenSinceYear.fillna(0,inplace=True)\n",
    "store_train.Promo2SinceWeek.fillna(0, inplace = True)\n",
    "store_train.Promo2SinceYear.fillna(0,inplace=True)\n",
    "store_train.PromoInterval.fillna(0,inplace=True)\n",
    "###check missing value###\n",
    "missing_values_table(store_train)\n",
    "missing_values_table(store_test)\n",
    "\n",
    "#####function to plot\n",
    "def plotvar(df, variable):\n",
    "    plt.subplot(1,2,2)\n",
    "    sb.boxplot(df[variable])\n",
    "    plt.show()\n",
    "    \n",
    "#outliers plot\n",
    "plotvar(store_train,'CompetitionDistance')\n",
    "plotvar(store_test,'CompetitionOpenSinceMonth')\n",
    "plotvar(store_train,'CompetitionOpenSinceYear')\n",
    "plotvar(store_train,'Promo2SinceWeek')\n",
    "plotvar(store_train,'Promo2SinceYear')\n",
    "plotvar(store_test,'Open')\n",
    "\n",
    "####Fix outliers###\n",
    "def fix_outlier(df, column):\n",
    "    df[column] = np.where(df[column] > df[column].quantile(0.95), df[column].median(),df[column])\n",
    "    \n",
    "    return df[column]\n",
    "#fix outliers\n",
    "fix_outlier(store_train, 'CompetitionDistance')\n",
    "fix_outlier(store_test, 'CompetitionDistance')\n",
    "fix_outlier(store_train, 'Open')\n",
    "fix_outlier(store_test, 'Open')\n",
    "#plot after fixing outliers\n",
    "plotvar(store_train,'CompetitionDistance')\n",
    "\n",
    "#####extract new feature from the existing datetime columns  \n",
    "#change date column to datetime\n",
    "def feature_generation(data):\n",
    "    data['Date'] = pd.to_datetime(data.Date)\n",
    "    data['Month'] = data.Date.dt.month.to_list()\n",
    "    data['Year'] = data.Date.dt.year.to_list()\n",
    "    data['Day'] = data.Date.dt.day.to_list()\n",
    "    data['WeekOfYear'] = data.Date.dt.weekofyear.to_list()\n",
    "    data['DayOfWeek'] = data.Date.dt.dayofweek.to_list()\n",
    "    data['weekday'] = 1 # Initialize the column with default value of 1\n",
    "    data.loc[data['DayOfWeek'] == 5, 'weekday'] = 0\n",
    "    data.loc[data['DayOfWeek'] == 6, 'weekday'] = 0\n",
    "    data = data.drop(['Date'], axis = 1)\n",
    "    return data\n",
    "\n",
    "store_train_features=feature_generation(store_train)\n",
    "store_test_features=feature_generation(store_test)\n",
    "#identify weekends\n",
    "store_train['is_weekend'] = ((pd.DatetimeIndex(store_train['Date']).dayofweek) // 5 == 1).astype(int)\n",
    "store_train.head(14)\n",
    "#Adding salespercustomer column\n",
    "store_train['SalesperCustomer']=store_train['Sales']/store_train['Customers']\n",
    "######\n",
    "######\n",
    "######\n",
    "####Defining independent and dependent variables####\n",
    "#######\n",
    "store_train_features['SalesperCustomer']=store_train_features['Sales']/store_train_features['Customers']\n",
    "#X = train_data.drop(['Customers', 'Sales', 'SalesperCustomer'], axis = 1)\n",
    "store_train_features.corr()\n",
    "#SInce we want to predict store sales, the target/ dependent variable is sales. For features we\n",
    "#remove all columns that are strongly correlated to sales. From correlation analysis, we see that\n",
    "#\\\"customers\\\" and \\\"salespercustomer\\\" have a strong positive correlation with sale. There we do\n",
    "#away with these columns.\n",
    "X = store_train_features.drop(['Customers', 'Sales', 'SalesperCustomer','Open','Promo'], axis = 1)\n",
    "y=store_train_features['Sales']\n",
    "#Training and testing split \n",
    "X_train, X_test, y_train, y_test = train_test_split(X, y, test_size=0.20, random_state=15)\n",
    "\n",
    "#X_train.size, X_test.size, y_train.size, y_test.size\n",
    "with mlflow.start_run():\n",
    "####encode###\n",
    "    le = LabelEncoder()\n",
    "    le.fit(X_train['StoreType'].astype(str))\n",
    "    X_train['StoreType']= le.transform(X_train['StoreType'].astype(str))\n",
    "###\n",
    "    le = LabelEncoder()\n",
    "    le.fit(X_train['Assortment'].astype(str))\n",
    "    X_train['Assortment']= le.transform(X_train['Assortment'].astype(str))\n",
    "\n",
    "##\n",
    "    le = LabelEncoder()\n",
    "    le.fit(X_train['StateHoliday'].astype(str))\n",
    "    X_train['StateHoliday']= le.transform(X_train['StateHoliday'].astype(str))\n",
    "##\n",
    "    le = LabelEncoder()\n",
    "    le.fit(X_train['PromoInterval'].astype(str))\n",
    "    X_train['PromoInterval']= le.transform(X_train['PromoInterval'].astype(str))\n",
    "####\n",
    "    le = LabelEncoder()\n",
    "    le.fit(X_test['StoreType'].astype(str))\n",
    "    X_test['StoreType']= le.transform(X_test['StoreType'].astype(str))\n",
    "###\n",
    "    le = LabelEncoder()\n",
    "    le.fit(X_test['Assortment'].astype(str))\n",
    "    X_test['Assortment']= le.transform(X_test['Assortment'].astype(str))\n",
    "##\n",
    "    le = LabelEncoder()\n",
    "    le.fit(X_test['StateHoliday'].astype(str))\n",
    "    X_test['StateHoliday']= le.transform(X_test['StateHoliday'].astype(str))\n",
    "##\n",
    "##\n",
    "    le = LabelEncoder()\n",
    "    le.fit(X_test['PromoInterval'].astype(str))\n",
    "    X_test['PromoInterval']= le.transform(X_test['PromoInterval'].astype(str))\n",
    "###\n",
    "    regressor = RandomForestRegressor(n_estimators=10, criterion='mse',random_state=0)\n",
    "    regressor.fit(X_train, y_train)\n",
    "###predict###\n",
    "#####################################33\n",
    "    y_pred = regressor.predict(X_test)\n",
    "    y_pred_l = pd.DataFrame(y_pred, columns=[\"sales prediction\"])\n",
    "    print(y_pred_l.head())\n",
    "    y_test.head()\n",
    "\n",
    "###\n",
    "    def rmspe(y, result):\n",
    "        rmspe = np.sqrt(np.mean( (y - result)**2 ))\n",
    "        return rmspe\n",
    "    RFR = RandomForestRegressor(n_estimators=10,  criterion='mse',  max_depth=5,  min_samples_split=2, \n",
    "                                min_samples_leaf=1, min_weight_fraction_leaf=0.0,  max_features='auto',max_leaf_nodes=None, \n",
    "                                min_impurity_decrease=0.0,  min_impurity_split=None,  bootstrap=True, oob_score=False, n_jobs=4, random_state=31, \n",
    "                                verbose=0,  warm_start=False)\n",
    "#with mlflow.start_run\n",
    "    params = {'max_depth':(4,6,8,10,12,14,16,20),'n_estimators':(4,8,16,24,48,72,96,128),'min_samples_split':(2,4,6,8,10)}\n",
    "#scoring_fnc = metrics.make_scorer(rmspe)\n",
    "#the dimensionality is high, the number of combinations we have to search is enormous, using\n",
    "#RandomizedSearchCV \n",
    "# is a better option then GridSearchCV\n",
    "    grid = model_selection.RandomizedSearchCV(estimator=RFR,param_distributions=params,cv=5,)\n",
    "    grid.fit(X_train, y_train)\n",
    "###Test our RF on the validation set##\n",
    "#with the optimal parameters i got let's see how it behaves with the validation set\\n\",\n",
    "    rfr_val=RandomForestRegressor(n_estimators=128,criterion='mse',  max_depth=20,min_samples_split=10,  min_samples_leaf=1,  min_weight_fraction_leaf=0.0,max_features='auto',max_leaf_nodes=None,min_impurity_decrease=0.0,min_impurity_split=None,bootstrap=True,oob_score=False, n_jobs=4,random_state=None, verbose=0,warm_start=False)\n",
    "    model_RF_test=rfr_val.fit(X_train,y_train)\n",
    "    result=model_RF_test.predict(X_test)\n",
    "    plt.hist(result)\n",
    "#mean square error\n",
    "    mean_squared_error(y_test,result)\n",
    "##Predicting using XGBoost##\n"
   ]
  },
  {
   "cell_type": "code",
   "execution_count": null,
   "id": "378a9269",
   "metadata": {},
   "outputs": [],
   "source": [
    "from sklearn.preprocessing import MinMaxScaler"
   ]
  },
  {
   "cell_type": "code",
   "execution_count": null,
   "id": "c0cc988e",
   "metadata": {},
   "outputs": [],
   "source": [
    "scaler.fit(houseSales.Sales.values.reshape([-1, 1]))\n",
    "houseSalesScaled = scaler.transform(houseSales.Sales.values.reshape(-1, 1))\n",
    "houseSales['HouseSalesScaled'] = houseSalesScaled\n",
    "houseSales.tail(10)"
   ]
  },
  {
   "cell_type": "code",
   "execution_count": null,
   "id": "7c79fae4",
   "metadata": {},
   "outputs": [],
   "source": [
    "fig = plt.figure()\n",
    "gs = GridSpec(2, 1, figure=fig)\n",
    "\n",
    "fig.set_figheight(20)\n",
    "fig.set_figwidth(30)\n",
    "fig.tight_layout(pad=15)\n",
    "\n",
    "M = 100\n",
    "xticks = ticker.MaxNLocator(M)\n",
    "\n",
    "ax1 = fig.add_subplot(gs[0,0])\n",
    "ax1.plot(store_train.Sales.index, store_train.Sales, 'b-')\n",
    "ax1.xaxis.set_major_locator(xticks)\n",
    "ax1.tick_params(labelrotation=90)\n",
    "ax1.set_xlabel('Date')\n",
    "ax1.set_ylabel('Thousands of Units')\n",
    "ax1.title.set_text('Time Series Plot of pharmacy Sales')\n",
    "ax1.grid(True)\n",
    "\n",
    "ax2 = fig.add_subplot(gs[1,0])\n",
    "ax2.plot(store_train.Sales.index, store_train.Sales.SalesScaled, 'g-')\n",
    "ax2.xaxis.set_major_locator(xticks)\n",
    "ax2.tick_params(labelrotation=90)\n",
    "ax2.set_xlabel('Date')\n",
    "ax2.set_ylabel('Scaled Units')\n",
    "ax2.title.set_text('Time Series Plot of Min Max Scaled House Sales')\n",
    "ax2.grid(True)\n",
    "plt.show()"
   ]
  },
  {
   "cell_type": "code",
   "execution_count": null,
   "id": "eec85a6c",
   "metadata": {},
   "outputs": [],
   "source": []
  }
 ],
 "metadata": {
  "kernelspec": {
   "display_name": "Python 3",
   "language": "python",
   "name": "python3"
  },
  "language_info": {
   "codemirror_mode": {
    "name": "ipython",
    "version": 3
   },
   "file_extension": ".py",
   "mimetype": "text/x-python",
   "name": "python",
   "nbconvert_exporter": "python",
   "pygments_lexer": "ipython3",
   "version": "3.8.8"
  }
 },
 "nbformat": 4,
 "nbformat_minor": 5
}
