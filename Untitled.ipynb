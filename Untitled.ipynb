{
 "cells": [
  {
   "cell_type": "markdown",
   "id": "7d385e1d",
   "metadata": {},
   "source": [
    "Regressions & Plotting"
   ]
  },
  {
   "cell_type": "code",
   "execution_count": 1,
   "id": "85824c97",
   "metadata": {},
   "outputs": [],
   "source": [
    "import pandas as pd\n",
    "import seaborn as sns\n",
    "import matplotlib.pyplot as plt\n",
    "%matplotlib inline"
   ]
  },
  {
   "cell_type": "code",
   "execution_count": null,
   "id": "93f47fd3",
   "metadata": {},
   "outputs": [],
   "source": [
    "#CSV version\n",
    "# Price_Patent_Reg = pd.read_csv('data/Price_Patent_Reg.csv', index_col = 0, dtype = data_types)"
   ]
  },
  {
   "cell_type": "code",
   "execution_count": null,
   "id": "e64f6890",
   "metadata": {},
   "outputs": [],
   "source": [
    "import dill\n",
    "Price_Patent_Reg = dill.load(open('data/features_created.pkd', 'rb'))\n",
    "Price_Patent_Reg.info()"
   ]
  },
  {
   "cell_type": "code",
   "execution_count": null,
   "id": "08564098",
   "metadata": {},
   "outputs": [],
   "source": [
    "From the dependent and independent variable dataframes"
   ]
  },
  {
   "cell_type": "code",
   "execution_count": null,
   "id": "3eed7fcb",
   "metadata": {},
   "outputs": [],
   "source": [
    "from sklearn.model_selection import train_test_split\n",
    "\n",
    "train_data, test_data = train_test_split(Price_Patent_Reg,\n",
    "                                         test_size = 0.2,\n",
    "                                         random_state = 1,\n",
    "#                                          shuffle = True\n",
    "                                        )    #shuffle data to avoid correlation to the natural order of the data"
   ]
  },
  {
   "cell_type": "code",
   "execution_count": null,
   "id": "a9873f1d",
   "metadata": {},
   "outputs": [],
   "source": [
    "Create a class for estimating by group"
   ]
  },
  {
   "cell_type": "code",
   "execution_count": null,
   "id": "bb395fd9",
   "metadata": {},
   "outputs": [],
   "source": [
    "from sklearn import base\n",
    "import numpy as np \n",
    "import pandas as pd\n",
    "\n",
    "class GroupbyEstimator(base.BaseEstimator, base.RegressorMixin):\n",
    "\n",
    "    def __init__(self, groupby_column, pipeline_factory):\n",
    "        # column is the value to group by; estimator_factory can be called to produce estimators\n",
    "        self.groupby_column = groupby_column\n",
    "        self.pipeline_factory = pipeline_factory\n",
    "\n",
    "    \n",
    "    def fit(self, dataframe, label):\n",
    "        # Create an estimator and fit it with the portion in each group (create and fit a model per city\n",
    "        self.drugs_dict = {}\n",
    "        self.label = label\n",
    "        self.coefs_dict = {} \n",
    "        self.intercepts_dict = {} \n",
    "       \n",
    "        dataframe = pd.get_dummies(dataframe)  #onehot encoder had problems with the data, so I'm getting the dummies with pandas here\n",
    "        \n",
    "        for name, values in dataframe.groupby(self.groupby_column):\n",
    "            y = values[label]\n",
    "            X = values.drop(columns = [label, self.groupby_column], axis = 1)\n",
    "            self.drugs_dict[name] = self.pipeline_factory().fit(X, y)\n",
    "            self.coefs_dict[name] = self.drugs_dict[name].named_steps[\"lin_reg\"].coef_\n",
    "            self.intercepts_dict[name] = self.drugs_dict[name].named_steps[\"lin_reg\"].intercept_\n",
    "        return self\n",
    "\n",
    "    #Method to get the coefficients for each regression\n",
    "    def get_coefs(self):       \n",
    "        return self.coefs_dict\n",
    "    \n",
    "    #Method to get the intercepts for each regression\n",
    "    def get_intercepts(self):\n",
    "        return self.intercepts_dict\n",
    "    \n",
    "        \n",
    "    def predict(self, test_data):\n",
    "        price_pred_list = []\n",
    "\n",
    "        for idx, row in test_data.iterrows():\n",
    "            name = row[self.groupby_column]                                 #get drug name from drug column\n",
    "            regression_coefs = self.drugs_dict[name]                        #get coefficients from fitting in drugs_dict\n",
    "            row = pd.DataFrame(row).T\n",
    "            X = row.drop(columns = [self.label, self.groupby_column], axis = 1).values.reshape(1, -1) #Drop ndc and price cols          \n",
    "\n",
    "            drug_price_pred = regression_coefs.predict(X)    \n",
    "            price_pred_list.append([name, drug_price_pred])\n",
    "        return price_pred_list\n",
    "    Run Linear Regression"
   ]
  },
  {
   "cell_type": "code",
   "execution_count": null,
   "id": "30ae2fd3",
   "metadata": {},
   "outputs": [],
   "source": [
    "from sklearn import base\n",
    "import numpy as np \n",
    "\n",
    "def pipeline_factory():\n",
    "    from sklearn.pipeline import Pipeline\n",
    "    from sklearn.linear_model import LinearRegression\n",
    "\n",
    "    return Pipeline([\n",
    "                     ('lin_reg', LinearRegression())\n",
    "                    ])\n",
    "\n",
    "lin_model = GroupbyEstimator('ndc', pipeline_factory).fit(train_data,'nadac_per_unit')"
   ]
  },
  {
   "cell_type": "code",
   "execution_count": null,
   "id": "15de7131",
   "metadata": {},
   "outputs": [],
   "source": [
    "# Predict & save results\n",
    "results = lin_model.predict(test_data)\n",
    "predictions = [x[1][0] for x in results]\n",
    "actual = test_data.iloc[:,0]"
   ]
  },
  {
   "cell_type": "code",
   "execution_count": null,
   "id": "ee0764b4",
   "metadata": {},
   "outputs": [],
   "source": [
    "Calculating scoring metrics\n",
    "And an explanation of each score metric being considered"
   ]
  },
  {
   "cell_type": "code",
   "execution_count": null,
   "id": "b1aa20ab",
   "metadata": {},
   "outputs": [],
   "source": [
    "from sklearn.metrics import explained_variance_score, max_error, mean_absolute_error, mean_squared_error, mean_squared_log_error, median_absolute_error, r2_score \n",
    "\n",
    "scoring_methods = [\n",
    "                   explained_variance_score, # 1-(Var(predicted-true)/Var(true)); equal to R2 if mean(error) == 0 (e.g. true == 0)\n",
    "                   max_error,                # captures the worst case error(residual) between the predicted value and the true value\n",
    "                   mean_absolute_error,      # average of (the absolute value of) all residuals; less sensitive to outliers; lower is better\n",
    "                   mean_squared_error,       # penalty for making more predictions varying from the actual value; more sensitive to outliers\n",
    "                   mean_squared_log_error,   # treats small differences between small true and predicted differences the same as big differences between large true and predicted values\n",
    "                   median_absolute_error,    # Robust (insensitive) to outliers\n",
    "                   r2_score                  # The proportion of variance of the dependent variable that has been explained by the independent variables (multioutput param defaults to 'uniform_average')\n",
    "                  ]\n",
    "\n",
    "for method in scoring_methods:\n",
    "    try: \n",
    "        score = method(actual, predictions)\n",
    "        print(method, ': ', score)\n",
    "    except ValueError:\n",
    "        pass"
   ]
  },
  {
   "cell_type": "code",
   "execution_count": null,
   "id": "677d9eb5",
   "metadata": {},
   "outputs": [],
   "source": [
    "# Prediction/Actual values in dataframe for comparison (index is NDC number)\n",
    "prediction_values = pd.DataFrame({'actual':actual, 'predictions': predictions})\n",
    "prediction_values.head()"
   ]
  },
  {
   "cell_type": "code",
   "execution_count": null,
   "id": "62291d55",
   "metadata": {},
   "outputs": [],
   "source": [
    "Prep data for plotting"
   ]
  },
  {
   "cell_type": "code",
   "execution_count": null,
   "id": "20ef82ca",
   "metadata": {},
   "outputs": [],
   "source": [
    "def format_data(dataframe, filename, test = False):\n",
    "    #change columns to datetime\n",
    "    dataframe.loc[:, 'ndc'] = dataframe.loc[:, 'ndc'].astype('int64') #needed to convert int32 to int64 to hold larger number\n",
    "    if test:\n",
    "        dataframe.loc[:, ['effective_date_year', 'effective_date_month', 'effective_date_day']] = dataframe.loc[:, ['effective_date_year', 'effective_date_month', 'effective_date_day']].astype(str)\n",
    "        dataframe.rename(columns = {'effective_date_year':'year', 'effective_date_month':'month', 'effective_date_day':'day'}, inplace = True)\n",
    "        dataframe.loc[:, 'date'] = pd.to_datetime(dataframe[['year', 'month', 'day']], format = '%Y-%m-%d')\n",
    "        dataframe.rename({'year':'effective_date_year', 'month':'effective_date_month', 'day':'effective_date_day'}, inplace = True)\n",
    "        dataframe.loc[:, ['year', 'month', 'day']] = dataframe.loc[:, ['year', 'month', 'day']].astype(float).astype(int)\n",
    "        dataframe.sort_values(['ndc', 'date'])\n",
    "    else:\n",
    "        dataframe.rename(columns = {'effective_date_year': 'year', 'effective_date_month': 'month', 'effective_date_day': 'day'}, inplace = True)\n",
    "\n",
    "    #Keep only unique values\n",
    "    dataframe.loc[:, 'year'] = dataframe.loc[:, 'year'].astype(int)\n",
    "    dataframe.loc[:, 'month'] = dataframe.loc[:, 'month'].astype(int)\n",
    "    dataframe.loc[:, 'day'] = dataframe.loc[:, 'day'].astype(int)\n",
    "\n",
    "    return dataframe\n",
    "\n",
    "#Save formatted data as follows\n",
    "historical_data = format_data(train_data, 'historical_data', test = True)\n",
    "prediction_data = format_data(test_data, 'pred_data')"
   ]
  },
  {
   "cell_type": "code",
   "execution_count": null,
   "id": "20107a96",
   "metadata": {},
   "outputs": [],
   "source": [
    "Plot Drug Prices and Forecasts\n",
    "Note that the following plot is still in development.\n",
    "The current working version (Drug_Price_Plots.py can be run from the command line via bokeh serve --show Drug_Price_Plots.py"
   ]
  },
  {
   "cell_type": "code",
   "execution_count": null,
   "id": "c1424099",
   "metadata": {},
   "outputs": [],
   "source": [
    "#Plotting session\n",
    "from bokeh.io import curdoc\n",
    "from bokeh.layouts import column, row\n",
    "from bokeh.models import ColumnDataSource, Select, DataRange1d, HoverTool\n",
    "from bokeh.plotting import figure\n",
    "\n",
    "# Set up initial data\n",
    "historical_data = historical_data.loc[:, ['ndc', 'date', 'nadac_per_unit']]\n",
    "hist_temp = historical_data[historical_data.loc[:, 'ndc']==781593600].sort_values('date')\n",
    "historical_source = ColumnDataSource(data = hist_temp)\n",
    "\n",
    "#\n",
    "import datetime as dt\n",
    "#Get initial prediction\n",
    "date = dt.datetime.strptime('-'.join(('2020', '3', '31')), '%Y-%m-%d')\n",
    "new_prediction_data = prediction_data[prediction_data.loc[:, 'ndc']==781593600] #working\n",
    "new_prediction_data.loc[:, 'year'] = date.year\n",
    "new_prediction_data.loc[:, 'month'] = date.month\n",
    "new_prediction_data.loc[:, 'day'] = date.day\n",
    "new_prediction_data = lin_model.predict(new_prediction_data)\n",
    "new_prediction_data = pd.DataFrame(data = {'ndc':new_prediction_data[0][0], 'nadac_per_unit':new_prediction_data[0][1][0]}, index = [0]) #these element slices are correct\n",
    "new_prediction_data['date'] = pd.to_datetime(date, format='%Y-%m-%d')\n",
    "new_prediction_data['ndc'] = new_prediction_data['ndc'].astype(float).astype('int64')\n",
    "new_prediction_data['nadac_per_unit'] = new_prediction_data['nadac_per_unit'].astype('float16')\n",
    "prediction_source = ColumnDataSource(data=new_prediction_data)\n",
    "\n",
    "id_list = list(prediction_data['ndc'].astype(str))\n",
    "# Set up plot\n",
    "plot = figure(plot_height=800, plot_width=800, title='Drug Price Over Time',\n",
    "              x_axis_type = 'datetime',\n",
    "              tools=\"crosshair, pan, reset, save, wheel_zoom\")\n",
    "plot.xaxis.axis_label = 'Time'\n",
    "plot.yaxis.axis_label = 'Price ($)'\n",
    "plot.axis.axis_label_text_font_style = 'bold'\n",
    "plot.grid.grid_line_alpha = 0.8\n",
    "plot.title.text_font_size = '16pt'\n",
    "plot.x_range = DataRange1d(range_padding = .01)\n",
    "plot.add_tools(HoverTool(tooltips=[('Date', '@date{%F}'), ('Price', '@nadac_per_unit')],\n",
    "                                    formatters = {'date': 'datetime'}))\n",
    "\n",
    "plot.line('date', 'nadac_per_unit', source=historical_source, legend='Historical Price')\n",
    "plot.scatter('date', 'nadac_per_unit', source=prediction_source, fill_color='red', size=8, legend='Predicted Price')\n",
    "\n",
    "# Set up widgets\n",
    "id_select = Select(title='Select a Drug ID Number', value='781593600', options=id_list)\n",
    "\n",
    "# Set up callbacks\n",
    "def update_data(attrname, old, new):\n",
    "\n",
    "    #Get the current select value\n",
    "    curr_id = id_select.value\n",
    "    # Generate the new data\n",
    "    new_historical = historical_data[historical_data.loc[:, 'ndc']==int(curr_id)]\n",
    "    new_historical = new_historical.sort_values('date')\n",
    "\n",
    "    new_prediction_data = prediction_data[prediction_data.loc[:, 'ndc']==int(curr_id)] #working\n",
    "    date = dt.datetime.strptime('-'.join(('2020', '3', '31')), '%Y-%m-%d')\n",
    "    new_prediction_data.loc[:, 'year'] = date.year\n",
    "    new_prediction_data.loc[:, 'month'] = date.month\n",
    "    new_prediction_data.loc[:, 'day'] = date.day\n",
    "    new_prediction_data = lin_model.predict(new_prediction_data)\n",
    "    new_prediction_data = pd.DataFrame(data = {'ndc':new_prediction_data[0][0], 'nadac_per_unit':new_prediction_data[0][1][0]}, index = [0]) #these element slices are correct\n",
    "    new_prediction_data['date'] = pd.to_datetime(date, format='%Y-%m-%d')\n",
    "     new_prediction_data['ndc'] = new_prediction_data['ndc'].astype(float).astype('int64')\n",
    "\n",
    "    # Overwrite current data with new data\n",
    "    historical_source.data = ColumnDataSource.from_df(new_historical)\n",
    "    prediction_source.data = ColumnDataSource.from_df(new_prediction_data)\n",
    "\n",
    "# Action when select menu changes\n",
    "id_select.on_change('value', update_data)\n",
    "\n",
    "# Set up layouts and add to document\n",
    "inputs = column(id_select)\n",
    "\n",
    "curdoc().add_root(row(inputs, plot, width = 1000))\n",
    "curdoc().title = 'Drug Price Predictor'\n"
   ]
  },
  {
   "cell_type": "code",
   "execution_count": null,
   "id": "d87ecd98",
   "metadata": {},
   "outputs": [],
   "source": [
    "NO LONGER NEEDED?\n",
    "Retrieve coefficients & intercepts for modeling"
   ]
  },
  {
   "cell_type": "code",
   "execution_count": null,
   "id": "196c07ea",
   "metadata": {},
   "outputs": [],
   "source": [
    "# Retrieve all model coefficients \n",
    "all_model_coefs = lin_model.get_coefs()\n",
    "\n",
    "# Retrieve all model intercepts \n",
    "all_model_intercepts = lin_model.get_intercepts()\n",
    "\n",
    "#Convert coefficients to dataframe\n",
    "train_data = train_data.drop(columns='date')\n",
    "col_names = train_data.iloc[:,1:].columns\n",
    "fit_details = pd.DataFrame(all_model_coefs).transpose()\n",
    "fit_details.reset_index(inplace = True)\n",
    "\n",
    "\n",
    "fit_details.columns = col_names\n",
    "\n",
    "#Incorporate intercepts to dataframe\n",
    "intercepts = pd.DataFrame(all_model_intercepts, index = ['intercepts']).transpose()\n",
    "fit_details = fit_details.merge(intercepts, left_on = 'ndc', right_on = intercepts.index)\n",
    "\n",
    "# Send final data to CSV\n",
    "fit_details.to_csv('data/fit_details.csv')\n",
    "# fit_details.head()\n",
    "\n",
    "fit_details.head()"
   ]
  },
  {
   "cell_type": "code",
   "execution_count": null,
   "id": "1ef434d9",
   "metadata": {},
   "outputs": [],
   "source": []
  }
 ],
 "metadata": {
  "kernelspec": {
   "display_name": "Python 3",
   "language": "python",
   "name": "python3"
  },
  "language_info": {
   "codemirror_mode": {
    "name": "ipython",
    "version": 3
   },
   "file_extension": ".py",
   "mimetype": "text/x-python",
   "name": "python",
   "nbconvert_exporter": "python",
   "pygments_lexer": "ipython3",
   "version": "3.8.8"
  }
 },
 "nbformat": 4,
 "nbformat_minor": 5
}
